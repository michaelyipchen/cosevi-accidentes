{
 "cells": [
  {
   "cell_type": "code",
   "execution_count": 1,
   "metadata": {},
   "outputs": [],
   "source": [
    "import pandas as pd\n",
    "df = pd.read_csv('C:\\\\Users\\\\myip\\\\cosevi-accidentes\\\\accidentes_transito_cr.csv')"
   ]
  },
  {
   "cell_type": "code",
   "execution_count": 2,
   "metadata": {},
   "outputs": [
    {
     "data": {
      "text/plain": [
       "(70549, 22)"
      ]
     },
     "execution_count": 2,
     "metadata": {},
     "output_type": "execute_result"
    }
   ],
   "source": [
    "df.shape"
   ]
  },
  {
   "cell_type": "code",
   "execution_count": 3,
   "metadata": {},
   "outputs": [
    {
     "data": {
      "text/html": [
       "<div>\n",
       "<style scoped>\n",
       "    .dataframe tbody tr th:only-of-type {\n",
       "        vertical-align: middle;\n",
       "    }\n",
       "\n",
       "    .dataframe tbody tr th {\n",
       "        vertical-align: top;\n",
       "    }\n",
       "\n",
       "    .dataframe thead th {\n",
       "        text-align: right;\n",
       "    }\n",
       "</style>\n",
       "<table border=\"1\" class=\"dataframe\">\n",
       "  <thead>\n",
       "    <tr style=\"text-align: right;\">\n",
       "      <th></th>\n",
       "      <th>A_Accidente</th>\n",
       "      <th>Clase de accidente</th>\n",
       "      <th>Tipo de accidente</th>\n",
       "      <th>Año</th>\n",
       "      <th>Mes</th>\n",
       "      <th>Día</th>\n",
       "      <th>Hora</th>\n",
       "      <th>Hora recodificada</th>\n",
       "      <th>Provincia</th>\n",
       "      <th>Cantón</th>\n",
       "      <th>...</th>\n",
       "      <th>Kilómetro</th>\n",
       "      <th>Tipo ruta</th>\n",
       "      <th>Rural o urbano</th>\n",
       "      <th>Calzada vertical</th>\n",
       "      <th>Calzada horizontal</th>\n",
       "      <th>Tipo de calzada</th>\n",
       "      <th>Estado del tiempo</th>\n",
       "      <th>Tipo de circulación</th>\n",
       "      <th>Dia</th>\n",
       "      <th>Mes.1</th>\n",
       "    </tr>\n",
       "  </thead>\n",
       "  <tbody>\n",
       "    <tr>\n",
       "      <th>0</th>\n",
       "      <td>1</td>\n",
       "      <td>Con muertos o graves</td>\n",
       "      <td>Salió de la vía</td>\n",
       "      <td>2015</td>\n",
       "      <td>Enero</td>\n",
       "      <td>Domingo</td>\n",
       "      <td>21</td>\n",
       "      <td>18:00-23:59</td>\n",
       "      <td>Puntarenas</td>\n",
       "      <td>Coto Brus</td>\n",
       "      <td>...</td>\n",
       "      <td>11</td>\n",
       "      <td>Nacional</td>\n",
       "      <td>Urbana</td>\n",
       "      <td>Desconocida</td>\n",
       "      <td>Curva</td>\n",
       "      <td>Asfalto</td>\n",
       "      <td>Oscuro</td>\n",
       "      <td>Objeto Fijo</td>\n",
       "      <td>1.Domingo</td>\n",
       "      <td>A. Enero</td>\n",
       "    </tr>\n",
       "    <tr>\n",
       "      <th>1</th>\n",
       "      <td>1</td>\n",
       "      <td>Solo heridos leves</td>\n",
       "      <td>Colisión con objeto fijo</td>\n",
       "      <td>2013</td>\n",
       "      <td>Marzo</td>\n",
       "      <td>Domingo</td>\n",
       "      <td>5</td>\n",
       "      <td>00:00-05:59</td>\n",
       "      <td>San José</td>\n",
       "      <td>San José</td>\n",
       "      <td>...</td>\n",
       "      <td>0</td>\n",
       "      <td>Nacional</td>\n",
       "      <td>Urbana</td>\n",
       "      <td>Pendiente</td>\n",
       "      <td>Curva</td>\n",
       "      <td>Asfalto</td>\n",
       "      <td>Buen tiempo</td>\n",
       "      <td>Desconocido</td>\n",
       "      <td>1.Domingo</td>\n",
       "      <td>C. Marzo</td>\n",
       "    </tr>\n",
       "    <tr>\n",
       "      <th>2</th>\n",
       "      <td>1</td>\n",
       "      <td>Solo heridos leves</td>\n",
       "      <td>Vuelco</td>\n",
       "      <td>2013</td>\n",
       "      <td>Febrero</td>\n",
       "      <td>Miércoles</td>\n",
       "      <td>12</td>\n",
       "      <td>12:00-17:59</td>\n",
       "      <td>San José</td>\n",
       "      <td>Puriscal</td>\n",
       "      <td>...</td>\n",
       "      <td>18</td>\n",
       "      <td>Nacional</td>\n",
       "      <td>Rural</td>\n",
       "      <td>Pendiente</td>\n",
       "      <td>Curva</td>\n",
       "      <td>Asfalto</td>\n",
       "      <td>Buen tiempo</td>\n",
       "      <td>Lateral en sentido contrario</td>\n",
       "      <td>4.Miércoles</td>\n",
       "      <td>B. Febrero</td>\n",
       "    </tr>\n",
       "    <tr>\n",
       "      <th>3</th>\n",
       "      <td>1</td>\n",
       "      <td>Solo heridos leves</td>\n",
       "      <td>Colisión con motocicleta</td>\n",
       "      <td>2013</td>\n",
       "      <td>Febrero</td>\n",
       "      <td>Miércoles</td>\n",
       "      <td>17</td>\n",
       "      <td>12:00-17:59</td>\n",
       "      <td>San José</td>\n",
       "      <td>Mora</td>\n",
       "      <td>...</td>\n",
       "      <td>2</td>\n",
       "      <td>Nacional</td>\n",
       "      <td>Urbana</td>\n",
       "      <td>Plano</td>\n",
       "      <td>Recta</td>\n",
       "      <td>Asfalto</td>\n",
       "      <td>Buen tiempo</td>\n",
       "      <td>Angulo recto</td>\n",
       "      <td>4.Miércoles</td>\n",
       "      <td>B. Febrero</td>\n",
       "    </tr>\n",
       "    <tr>\n",
       "      <th>4</th>\n",
       "      <td>1</td>\n",
       "      <td>Solo heridos leves</td>\n",
       "      <td>Atropello a persona</td>\n",
       "      <td>2013</td>\n",
       "      <td>Marzo</td>\n",
       "      <td>Miércoles</td>\n",
       "      <td>7</td>\n",
       "      <td>06:00-11:59</td>\n",
       "      <td>San José</td>\n",
       "      <td>Mora</td>\n",
       "      <td>...</td>\n",
       "      <td>15</td>\n",
       "      <td>Nacional</td>\n",
       "      <td>Rural</td>\n",
       "      <td>Plano</td>\n",
       "      <td>Recta</td>\n",
       "      <td>Asfalto</td>\n",
       "      <td>Buen tiempo</td>\n",
       "      <td>Desconocido</td>\n",
       "      <td>4.Miércoles</td>\n",
       "      <td>C. Marzo</td>\n",
       "    </tr>\n",
       "  </tbody>\n",
       "</table>\n",
       "<p>5 rows × 22 columns</p>\n",
       "</div>"
      ],
      "text/plain": [
       "   A_Accidente    Clase de accidente         Tipo de accidente   Año      Mes  \\\n",
       "0            1  Con muertos o graves           Salió de la vía  2015    Enero   \n",
       "1            1    Solo heridos leves  Colisión con objeto fijo  2013    Marzo   \n",
       "2            1    Solo heridos leves                    Vuelco  2013  Febrero   \n",
       "3            1    Solo heridos leves  Colisión con motocicleta  2013  Febrero   \n",
       "4            1    Solo heridos leves       Atropello a persona  2013    Marzo   \n",
       "\n",
       "         Día  Hora Hora recodificada   Provincia     Cantón  ... Kilómetro  \\\n",
       "0    Domingo    21       18:00-23:59  Puntarenas  Coto Brus  ...        11   \n",
       "1    Domingo     5       00:00-05:59    San José   San José  ...         0   \n",
       "2  Miércoles    12       12:00-17:59    San José   Puriscal  ...        18   \n",
       "3  Miércoles    17       12:00-17:59    San José       Mora  ...         2   \n",
       "4  Miércoles     7       06:00-11:59    San José       Mora  ...        15   \n",
       "\n",
       "  Tipo ruta Rural o urbano Calzada vertical Calzada horizontal  \\\n",
       "0  Nacional         Urbana      Desconocida              Curva   \n",
       "1  Nacional         Urbana        Pendiente              Curva   \n",
       "2  Nacional          Rural        Pendiente              Curva   \n",
       "3  Nacional         Urbana            Plano              Recta   \n",
       "4  Nacional          Rural            Plano              Recta   \n",
       "\n",
       "  Tipo de calzada Estado del tiempo           Tipo de circulación  \\\n",
       "0         Asfalto            Oscuro                   Objeto Fijo   \n",
       "1         Asfalto       Buen tiempo                   Desconocido   \n",
       "2         Asfalto       Buen tiempo  Lateral en sentido contrario   \n",
       "3         Asfalto       Buen tiempo                  Angulo recto   \n",
       "4         Asfalto       Buen tiempo                   Desconocido   \n",
       "\n",
       "           Dia       Mes.1  \n",
       "0    1.Domingo    A. Enero  \n",
       "1    1.Domingo    C. Marzo  \n",
       "2  4.Miércoles  B. Febrero  \n",
       "3  4.Miércoles  B. Febrero  \n",
       "4  4.Miércoles    C. Marzo  \n",
       "\n",
       "[5 rows x 22 columns]"
      ]
     },
     "execution_count": 3,
     "metadata": {},
     "output_type": "execute_result"
    }
   ],
   "source": [
    "df.head(5)"
   ]
  },
  {
   "cell_type": "code",
   "execution_count": 4,
   "metadata": {},
   "outputs": [
    {
     "data": {
      "text/plain": [
       "Index(['A_Accidente', 'Clase de accidente', 'Tipo de accidente', 'Año', 'Mes',\n",
       "       'Día', 'Hora', 'Hora recodificada', 'Provincia', 'Cantón', 'Distrito',\n",
       "       'Ruta', 'Kilómetro', 'Tipo ruta', 'Rural o urbano', 'Calzada vertical',\n",
       "       'Calzada horizontal', 'Tipo de calzada', 'Estado del tiempo',\n",
       "       'Tipo de circulación', 'Dia', 'Mes.1'],\n",
       "      dtype='object')"
      ]
     },
     "execution_count": 4,
     "metadata": {},
     "output_type": "execute_result"
    }
   ],
   "source": [
    "df.columns"
   ]
  },
  {
   "cell_type": "code",
   "execution_count": 5,
   "metadata": {},
   "outputs": [
    {
     "name": "stdout",
     "output_type": "stream",
     "text": [
      "0    1\n",
      "Name: A_Accidente, dtype: int64\n",
      "0    Con muertos o graves\n",
      "1      Solo heridos leves\n",
      "Name: Clase de accidente, dtype: object\n",
      "0               Salió de la vía\n",
      "1      Colisión con objeto fijo\n",
      "2                        Vuelco\n",
      "3      Colisión con motocicleta\n",
      "4           Atropello a persona\n",
      "17       Colisión con bicicleta\n",
      "18     Colisión entre vehículos\n",
      "173                       Otros\n",
      "182            Atropello animal\n",
      "202     Caída de algún ocupante\n",
      "569       Objeto sobre vehículo\n",
      "Name: Tipo de accidente, dtype: object\n",
      "0        2015\n",
      "1        2013\n",
      "48       2014\n",
      "177      2017\n",
      "25860    2016\n",
      "Name: Año, dtype: int64\n",
      "0          Enero\n",
      "1          Marzo\n",
      "2        Febrero\n",
      "5          Junio\n",
      "6         Agosto\n",
      "10          Mayo\n",
      "11         Abril\n",
      "13         Julio\n",
      "21     Setiembre\n",
      "63       Octubre\n",
      "120    Noviembre\n",
      "404    Diciembre\n",
      "Name: Mes, dtype: object\n",
      "0       Domingo\n",
      "2     Miércoles\n",
      "5        Sábado\n",
      "8        Martes\n",
      "11       Jueves\n",
      "12        Lunes\n",
      "14      Viernes\n",
      "Name: Día, dtype: object\n",
      "0     21\n",
      "1      5\n",
      "2     12\n",
      "3     17\n",
      "4      7\n",
      "5     22\n",
      "6     23\n",
      "7      8\n",
      "9     13\n",
      "10    14\n",
      "11    10\n",
      "15     6\n",
      "18     1\n",
      "22    19\n",
      "26     0\n",
      "27     3\n",
      "30     2\n",
      "33     4\n",
      "38    15\n",
      "46    16\n",
      "51    20\n",
      "61     9\n",
      "66    11\n",
      "74    18\n",
      "Name: Hora, dtype: int64\n",
      "0    18:00-23:59\n",
      "1    00:00-05:59\n",
      "2    12:00-17:59\n",
      "4    06:00-11:59\n",
      "Name: Hora recodificada, dtype: object\n",
      "0     Puntarenas\n",
      "1       San José\n",
      "22         Limón\n",
      "27      Alajuela\n",
      "32       Heredia\n",
      "57       Cartago\n",
      "83    Guanacaste\n",
      "Name: Provincia, dtype: object\n",
      "0                 Coto Brus\n",
      "1                  San José\n",
      "2                  Puriscal\n",
      "3                      Mora\n",
      "5              Desamparados\n",
      "8                Alajuelita\n",
      "14               Curridabat\n",
      "15                   Aserrí\n",
      "22                   Pococí\n",
      "24               Goicoechea\n",
      "26      Vázquez de Coronado\n",
      "27                 Alajuela\n",
      "30                   Escazú\n",
      "32                  Heredia\n",
      "34            Montes de Oca\n",
      "42                    Tibás\n",
      "54                  Moravia\n",
      "57                 La Unión\n",
      "58                   Atenas\n",
      "61                    Belén\n",
      "74               Puntarenas\n",
      "83                  La Cruz\n",
      "94                Sarapiquí\n",
      "102                 Naranjo\n",
      "103               San Ramón\n",
      "104                  Grecia\n",
      "109              San Carlos\n",
      "133           Santo Domingo\n",
      "134                  Quepos\n",
      "139                 Orotina\n",
      "               ...         \n",
      "301                 Paraíso\n",
      "309                 Bagaces\n",
      "310                Carrillo\n",
      "322                 Parrita\n",
      "330           Valverde Vega\n",
      "349                   Limón\n",
      "351               Siquirres\n",
      "352                  Matina\n",
      "405                 Golfito\n",
      "456                 Tilarán\n",
      "465              San Rafael\n",
      "466                  Flores\n",
      "477                   Barva\n",
      "509               San Pablo\n",
      "554                    Dota\n",
      "757                Alvarado\n",
      "798               Santa Ana\n",
      "875               Nandayure\n",
      "950                 Tarrazú\n",
      "1039           Buenos Aires\n",
      "1232                Esparza\n",
      "1234          Montes de Oro\n",
      "1439              Talamanca\n",
      "1477          Santa Bárbara\n",
      "1480             San Isidro\n",
      "2219            León Cortés\n",
      "2990             Turrubares\n",
      "4608             Los Chiles\n",
      "5478                Guatuso\n",
      "5641                Zarcero\n",
      "Name: Cantón, Length: 81, dtype: object\n",
      "0                 Sabalito\n",
      "1                 Hospital\n",
      "2              San Antonio\n",
      "3                    Colón\n",
      "4                  Guayabo\n",
      "5                    Damas\n",
      "6            San Sebastián\n",
      "7            San Cristóbal\n",
      "8               San Felipe\n",
      "10            Mata Redonda\n",
      "13            Desamparados\n",
      "14              Curridabat\n",
      "15                  Aserrí\n",
      "17                 Sánchez\n",
      "18                 Hatillo\n",
      "19                San Vito\n",
      "22                Guápiles\n",
      "24           Calle Blancos\n",
      "25                    Ipís\n",
      "26              San Isidro\n",
      "27              San Rafael\n",
      "29                Catedral\n",
      "30                  Escazú\n",
      "31       San Rafael Arriba\n",
      "32                   Ulloa\n",
      "34               San Pedro\n",
      "35                   Uruca\n",
      "39                  Merced\n",
      "40               Guadalupe\n",
      "41                Santiago\n",
      "               ...        \n",
      "17598             Delicias\n",
      "17681             La Unión\n",
      "17694             Chirripó\n",
      "19347               Arenal\n",
      "19659           Buenavista\n",
      "20371    San José o Pizote\n",
      "21592           Caño Negro\n",
      "21847           Cabo Velas\n",
      "24996             Yolillal\n",
      "25273               Laguna\n",
      "27322           Tres Equis\n",
      "27359      Gutiérrez Brown\n",
      "27369            Tronadora\n",
      "27679              Paquera\n",
      "32038             Dos Ríos\n",
      "35165           Monte Romo\n",
      "38607              Colinas\n",
      "40700                Pavón\n",
      "41065      Quebrada Grande\n",
      "42005                 Cote\n",
      "42982               Carara\n",
      "45264               Telire\n",
      "47765             Bebedero\n",
      "49415               Líbano\n",
      "50330        Patio de Agua\n",
      "53390              Zapotal\n",
      "54364                Pilas\n",
      "57952             Porvenir\n",
      "65949            Arancibia\n",
      "69030              Peralta\n",
      "Name: Distrito, Length: 383, dtype: object\n",
      "0             617\n",
      "1             214\n",
      "2             239\n",
      "3              22\n",
      "5             212\n",
      "6              39\n",
      "7             222\n",
      "8             177\n",
      "9        Cantonal\n",
      "10              1\n",
      "14              2\n",
      "15            209\n",
      "16            210\n",
      "18            110\n",
      "19            612\n",
      "21             27\n",
      "22            249\n",
      "24             32\n",
      "25            218\n",
      "26            216\n",
      "29            175\n",
      "30            105\n",
      "32              3\n",
      "39            108\n",
      "42            102\n",
      "43            215\n",
      "44            137\n",
      "46            310\n",
      "53            201\n",
      "54            220\n",
      "           ...   \n",
      "27605         922\n",
      "27693         163\n",
      "29327         319\n",
      "32558         938\n",
      "32624         170\n",
      "34873         620\n",
      "35333         807\n",
      "37096         750\n",
      "37741         929\n",
      "38088         510\n",
      "38292         133\n",
      "38645         937\n",
      "38919         320\n",
      "38984         753\n",
      "39025         621\n",
      "40793         165\n",
      "46774         316\n",
      "49472         735\n",
      "49798         928\n",
      "50590         732\n",
      "51813         936\n",
      "52367         609\n",
      "54769         907\n",
      "56399         737\n",
      "56662         905\n",
      "57826         607\n",
      "57952         903\n",
      "60802         744\n",
      "67950         915\n",
      "69640         139\n",
      "Name: Ruta, Length: 325, dtype: object\n",
      "0              11\n",
      "1               0\n",
      "2              18\n",
      "3               2\n",
      "4              15\n",
      "5               1\n",
      "6               7\n",
      "7              20\n",
      "9        Cantonal\n",
      "14              6\n",
      "15              8\n",
      "16              3\n",
      "17              9\n",
      "19             19\n",
      "25              4\n",
      "27             17\n",
      "31              5\n",
      "44          0,00%\n",
      "60             16\n",
      "77             92\n",
      "83            284\n",
      "93             44\n",
      "100            10\n",
      "102            36\n",
      "103            72\n",
      "104            33\n",
      "109            51\n",
      "112           118\n",
      "134           104\n",
      "139            53\n",
      "           ...   \n",
      "47453    2000,00%\n",
      "47683    5300,00%\n",
      "47957    8500,00%\n",
      "48035         245\n",
      "48302         254\n",
      "48306         313\n",
      "48313         295\n",
      "48319         336\n",
      "48320         341\n",
      "48328         344\n",
      "49661         340\n",
      "49666         328\n",
      "50295         267\n",
      "51083         346\n",
      "54021         276\n",
      "54965         304\n",
      "56064         234\n",
      "58530         322\n",
      "59767         289\n",
      "61230         244\n",
      "62321         308\n",
      "63570         241\n",
      "64562         301\n",
      "65966         250\n",
      "66619         233\n",
      "67975         311\n",
      "68172         240\n",
      "68256         312\n",
      "69415         230\n",
      "69576         302\n",
      "Name: Kilómetro, Length: 419, dtype: object\n",
      "0                     Nacional\n",
      "9                     Cantonal\n",
      "166                   Ignorada\n",
      "173    Nacional sin coordenada\n",
      "Name: Tipo ruta, dtype: object\n",
      "0           Urbana\n",
      "2            Rural\n",
      "166    Desconocida\n",
      "Name: Rural o urbano, dtype: object\n",
      "0    Desconocida\n",
      "1      Pendiente\n",
      "3          Plano\n",
      "Name: Calzada vertical, dtype: object\n",
      "0            Curva\n",
      "3            Recta\n",
      "6      Desconocida\n",
      "8            Cruce\n",
      "104           Otro\n",
      "182        Rotonda\n",
      "Name: Calzada horizontal, dtype: object\n",
      "0          Asfalto\n",
      "13           Otros\n",
      "19          Lastre\n",
      "21        Concreto\n",
      "34     Desconocida\n",
      "151         Tierra\n",
      "461        Adoquin\n",
      "Name: Tipo de calzada, dtype: object\n",
      "0               Oscuro\n",
      "1          Buen tiempo\n",
      "5          Desconocido\n",
      "7            Despejado\n",
      "22       Neblina media\n",
      "47      Lluvia intensa\n",
      "64      Neblina escasa\n",
      "78       Lluvia escasa\n",
      "209               Otro\n",
      "257     Lluvia mediana\n",
      "984    Neblina intensa\n",
      "Name: Estado del tiempo, dtype: object\n",
      "0                      Objeto Fijo\n",
      "1                      Desconocido\n",
      "2     Lateral en sentido contrario\n",
      "3                     Angulo recto\n",
      "5                             Otro\n",
      "7                        De frente\n",
      "17           Lateral igual sentido\n",
      "29                      Por detrás\n",
      "69                      De Costado\n",
      "Name: Tipo de circulación, dtype: object\n",
      "0       1.Domingo\n",
      "2     4.Miércoles\n",
      "5        7.Sábado\n",
      "8        3.Martes\n",
      "11       5.Jueves\n",
      "12        2.Lunes\n",
      "14      6.Viernes\n",
      "Name: Dia, dtype: object\n",
      "0          A. Enero\n",
      "1          C. Marzo\n",
      "2        B. Febrero\n",
      "5          F. Junio\n",
      "6         H. Agosto\n",
      "10          E. Mayo\n",
      "11         D. Abril\n",
      "13         G. Julio\n",
      "21     I. Setiembre\n",
      "63       J. Octubre\n",
      "120    K. Noviembre\n",
      "404    L. Diciembre\n",
      "Name: Mes.1, dtype: object\n"
     ]
    }
   ],
   "source": [
    "for column in df.columns:\n",
    "    print(df[column].drop_duplicates())"
   ]
  },
  {
   "cell_type": "code",
   "execution_count": 6,
   "metadata": {},
   "outputs": [
    {
     "data": {
      "text/plain": [
       "0    1\n",
       "Name: A_Accidente, dtype: int64"
      ]
     },
     "execution_count": 6,
     "metadata": {},
     "output_type": "execute_result"
    }
   ],
   "source": [
    "df['A_Accidente'].drop_duplicates()"
   ]
  },
  {
   "cell_type": "code",
   "execution_count": 7,
   "metadata": {},
   "outputs": [
    {
     "data": {
      "text/plain": [
       "Solo heridos leves      59101\n",
       "Con muertos o graves    11448\n",
       "Name: Clase de accidente, dtype: int64"
      ]
     },
     "execution_count": 7,
     "metadata": {},
     "output_type": "execute_result"
    }
   ],
   "source": [
    "df['Clase de accidente'].value_counts()"
   ]
  },
  {
   "cell_type": "code",
   "execution_count": 8,
   "metadata": {},
   "outputs": [
    {
     "data": {
      "text/plain": [
       "Colisión con motocicleta    27484\n",
       "Colisión entre vehículos    13899\n",
       "Atropello a persona         10006\n",
       "Vuelco                       5042\n",
       "Salió de la vía              5042\n",
       "Colisión con bicicleta       4651\n",
       "Colisión con objeto fijo     2118\n",
       "Otros                         863\n",
       "Caída de algún ocupante       676\n",
       "Atropello animal              641\n",
       "Objeto sobre vehículo         127\n",
       "Name: Tipo de accidente, dtype: int64"
      ]
     },
     "execution_count": 8,
     "metadata": {},
     "output_type": "execute_result"
    }
   ],
   "source": [
    "df['Tipo de accidente'].value_counts()\n"
   ]
  },
  {
   "cell_type": "code",
   "execution_count": 9,
   "metadata": {},
   "outputs": [
    {
     "data": {
      "text/plain": [
       "2016    16037\n",
       "2017    14861\n",
       "2015    14050\n",
       "2014    13025\n",
       "2013    12576\n",
       "Name: Año, dtype: int64"
      ]
     },
     "execution_count": 9,
     "metadata": {},
     "output_type": "execute_result"
    }
   ],
   "source": [
    "df['Año'].value_counts()"
   ]
  },
  {
   "cell_type": "code",
   "execution_count": 10,
   "metadata": {},
   "outputs": [
    {
     "data": {
      "text/plain": [
       "Diciembre    6533\n",
       "Octubre      6145\n",
       "Marzo        6083\n",
       "Noviembre    6075\n",
       "Agosto       5880\n",
       "Julio        5839\n",
       "Setiembre    5812\n",
       "Mayo         5781\n",
       "Abril        5744\n",
       "Enero        5570\n",
       "Junio        5554\n",
       "Febrero      5533\n",
       "Name: Mes, dtype: int64"
      ]
     },
     "execution_count": 10,
     "metadata": {},
     "output_type": "execute_result"
    }
   ],
   "source": [
    "df['Mes'].value_counts()\n",
    "#pd.get_dummies(df['Mes'], prefix = 'category')"
   ]
  },
  {
   "cell_type": "code",
   "execution_count": 11,
   "metadata": {},
   "outputs": [
    {
     "data": {
      "text/plain": [
       "12:00-17:59    23482\n",
       "06:00-11:59    20448\n",
       "18:00-23:59    20369\n",
       "00:00-05:59     6250\n",
       "Name: Hora recodificada, dtype: int64"
      ]
     },
     "execution_count": 11,
     "metadata": {},
     "output_type": "execute_result"
    }
   ],
   "source": [
    "df['Hora recodificada'].value_counts()\n",
    "#pd.get_dummies(df['Hora recodificada'], prefix = 'category')"
   ]
  },
  {
   "cell_type": "code",
   "execution_count": 12,
   "metadata": {},
   "outputs": [
    {
     "data": {
      "text/plain": [
       "Cantonal    23019\n",
       "1            3881\n",
       "2            3791\n",
       "3            2290\n",
       "32           2138\n",
       "209          1351\n",
       "27           1326\n",
       "39           1203\n",
       "10           1124\n",
       "34           1023\n",
       "218           964\n",
       "4             949\n",
       "17            830\n",
       "21            808\n",
       "104           611\n",
       "141           588\n",
       "247           577\n",
       "124           523\n",
       "118           518\n",
       "239           503\n",
       "102           493\n",
       "214           492\n",
       "5             453\n",
       "Ignorada      447\n",
       "108           447\n",
       "126           435\n",
       "121           402\n",
       "215           371\n",
       "35            351\n",
       "36            327\n",
       "            ...  \n",
       "905             3\n",
       "903             3\n",
       "170             3\n",
       "706             3\n",
       "937             3\n",
       "922             3\n",
       "623             3\n",
       "749             3\n",
       "938             3\n",
       "403             3\n",
       "807             3\n",
       "416             2\n",
       "133             2\n",
       "737             2\n",
       "510             2\n",
       "901             2\n",
       "609             2\n",
       "732             2\n",
       "746             2\n",
       "753             2\n",
       "607             1\n",
       "316             1\n",
       "936             1\n",
       "324             1\n",
       "930             1\n",
       "744             1\n",
       "939             1\n",
       "139             1\n",
       "915             1\n",
       "750             1\n",
       "Name: Ruta, Length: 325, dtype: int64"
      ]
     },
     "execution_count": 12,
     "metadata": {},
     "output_type": "execute_result"
    }
   ],
   "source": [
    "df['Ruta'].value_counts()\n",
    "#df['Ruta'].value_counts().shape"
   ]
  },
  {
   "cell_type": "code",
   "execution_count": 13,
   "metadata": {},
   "outputs": [
    {
     "data": {
      "text/plain": [
       "0            16122\n",
       "Cantonal     12274\n",
       "1             4301\n",
       "2             3897\n",
       "3             2911\n",
       "4             2563\n",
       "5             1981\n",
       "6             1714\n",
       "7             1516\n",
       "8             1265\n",
       "9              888\n",
       "Ignorado       851\n",
       "10             823\n",
       "14             675\n",
       "12             656\n",
       "11             631\n",
       "13             612\n",
       "17             518\n",
       "20             473\n",
       "15             468\n",
       "16             445\n",
       "22             433\n",
       "18             430\n",
       "21             424\n",
       "19             423\n",
       "25             340\n",
       "23             288\n",
       "26             261\n",
       "24             261\n",
       "30             248\n",
       "             ...  \n",
       "4900,00%         1\n",
       "13400,00%        1\n",
       "7000,00%         1\n",
       "2000,00%         1\n",
       "311              1\n",
       "6600,00%         1\n",
       "7800,00%         1\n",
       "241              1\n",
       "9700,00%         1\n",
       "247              1\n",
       "3400,00%         1\n",
       "308              1\n",
       "4200,00%         1\n",
       "12900,00%        1\n",
       "5200,00%         1\n",
       "3200,00%         1\n",
       "233              1\n",
       "17600,00%        1\n",
       "15400,00%        1\n",
       "6800,00%         1\n",
       "307              1\n",
       "230              1\n",
       "6700,00%         1\n",
       "15300,00%        1\n",
       "3600,00%         1\n",
       "289              1\n",
       "312              1\n",
       "302              1\n",
       "5000,00%         1\n",
       "8500,00%         1\n",
       "Name: Kilómetro, Length: 419, dtype: int64"
      ]
     },
     "execution_count": 13,
     "metadata": {},
     "output_type": "execute_result"
    }
   ],
   "source": [
    "df['Kilómetro'].value_counts()"
   ]
  },
  {
   "cell_type": "code",
   "execution_count": 14,
   "metadata": {},
   "outputs": [
    {
     "data": {
      "text/plain": [
       "Nacional                   46667\n",
       "Cantonal                   23020\n",
       "Ignorada                     448\n",
       "Nacional sin coordenada      414\n",
       "Name: Tipo ruta, dtype: int64"
      ]
     },
     "execution_count": 14,
     "metadata": {},
     "output_type": "execute_result"
    }
   ],
   "source": [
    "df['Tipo ruta'].value_counts()"
   ]
  },
  {
   "cell_type": "code",
   "execution_count": 15,
   "metadata": {},
   "outputs": [
    {
     "data": {
      "text/plain": [
       "Urbana         55093\n",
       "Rural          14594\n",
       "Desconocida      862\n",
       "Name: Rural o urbano, dtype: int64"
      ]
     },
     "execution_count": 15,
     "metadata": {},
     "output_type": "execute_result"
    }
   ],
   "source": [
    "df['Rural o urbano'].value_counts()"
   ]
  },
  {
   "cell_type": "code",
   "execution_count": 16,
   "metadata": {},
   "outputs": [
    {
     "data": {
      "text/plain": [
       "Plano          53448\n",
       "Pendiente      15414\n",
       "Desconocida     1687\n",
       "Name: Calzada vertical, dtype: int64"
      ]
     },
     "execution_count": 16,
     "metadata": {},
     "output_type": "execute_result"
    }
   ],
   "source": [
    "df['Calzada vertical'].value_counts()"
   ]
  },
  {
   "cell_type": "code",
   "execution_count": 17,
   "metadata": {},
   "outputs": [
    {
     "data": {
      "text/plain": [
       "Recta          28282\n",
       "Cruce          17085\n",
       "Desconocida    15618\n",
       "Curva           8117\n",
       "Otro            1158\n",
       "Rotonda          289\n",
       "Name: Calzada horizontal, dtype: int64"
      ]
     },
     "execution_count": 17,
     "metadata": {},
     "output_type": "execute_result"
    }
   ],
   "source": [
    "df['Calzada horizontal'].value_counts()\n",
    "# Desconocido se puede cambiar por otro"
   ]
  },
  {
   "cell_type": "code",
   "execution_count": 18,
   "metadata": {},
   "outputs": [
    {
     "data": {
      "text/plain": [
       "Asfalto        64336\n",
       "Lastre          2707\n",
       "Concreto        2079\n",
       "Desconocida      812\n",
       "Adoquin          226\n",
       "Tierra           197\n",
       "Otros            192\n",
       "Name: Tipo de calzada, dtype: int64"
      ]
     },
     "execution_count": 18,
     "metadata": {},
     "output_type": "execute_result"
    }
   ],
   "source": [
    "df['Tipo de calzada'].value_counts()\n",
    "# Desconocido se puede cambiar por otro"
   ]
  },
  {
   "cell_type": "code",
   "execution_count": 19,
   "metadata": {},
   "outputs": [
    {
     "data": {
      "text/plain": [
       "Buen tiempo        49309\n",
       "Despejado           8164\n",
       "Lluvia escasa       4418\n",
       "Oscuro              3319\n",
       "Lluvia mediana      2683\n",
       "Lluvia intensa      1114\n",
       "Desconocido          939\n",
       "Neblina escasa       273\n",
       "Neblina intensa      154\n",
       "Otro                 105\n",
       "Neblina media         71\n",
       "Name: Estado del tiempo, dtype: int64"
      ]
     },
     "execution_count": 19,
     "metadata": {},
     "output_type": "execute_result"
    }
   ],
   "source": [
    "df['Estado del tiempo'].value_counts()\n",
    "# Desconocido se puede cambiar por otro"
   ]
  },
  {
   "cell_type": "code",
   "execution_count": 20,
   "metadata": {},
   "outputs": [
    {
     "data": {
      "text/plain": [
       "De frente                       15361\n",
       "De Costado                      14686\n",
       "Angulo recto                    14561\n",
       "Por detrás                       8402\n",
       "Otro                             7023\n",
       "Desconocido                      6208\n",
       "Lateral igual sentido            2392\n",
       "Lateral en sentido contrario     1381\n",
       "Objeto Fijo                       535\n",
       "Name: Tipo de circulación, dtype: int64"
      ]
     },
     "execution_count": 20,
     "metadata": {},
     "output_type": "execute_result"
    }
   ],
   "source": [
    "df['Tipo de circulación'].value_counts()\n"
   ]
  },
  {
   "cell_type": "code",
   "execution_count": 21,
   "metadata": {},
   "outputs": [
    {
     "data": {
      "text/plain": [
       "Index(['A_Accidente', 'Clase de accidente', 'Tipo de accidente', 'Año', 'Mes',\n",
       "       'Día', 'Hora', 'Hora recodificada', 'Provincia', 'Cantón', 'Distrito',\n",
       "       'Ruta', 'Kilómetro', 'Tipo ruta', 'Rural o urbano', 'Calzada vertical',\n",
       "       'Calzada horizontal', 'Tipo de calzada', 'Estado del tiempo',\n",
       "       'Tipo de circulación', 'Dia', 'Mes.1'],\n",
       "      dtype='object')"
      ]
     },
     "execution_count": 21,
     "metadata": {},
     "output_type": "execute_result"
    }
   ],
   "source": [
    "df.columns"
   ]
  },
  {
   "cell_type": "code",
   "execution_count": 22,
   "metadata": {},
   "outputs": [
    {
     "data": {
      "text/plain": [
       "(70549, 82)"
      ]
     },
     "execution_count": 22,
     "metadata": {},
     "output_type": "execute_result"
    }
   ],
   "source": [
    "set1 = df[\n",
    "    ['Tipo de accidente', \n",
    "     'Año', \n",
    "     'Mes', \n",
    "     'Hora recodificada',\n",
    "     'Provincia', \n",
    "     'Tipo ruta', \n",
    "     'Rural o urbano', \n",
    "     'Calzada vertical',\n",
    "     'Calzada horizontal', \n",
    "     'Tipo de calzada', \n",
    "     'Estado del tiempo',\n",
    "     'Tipo de circulación']\n",
    "]\n",
    "set1_ohe = pd.DataFrame()\n",
    "\n",
    "for feature in set1:\n",
    "    onehot_features = pd.get_dummies(df[feature])\n",
    "    set1_ohe = pd.concat([set1_ohe, onehot_features], axis=1)\n",
    "\n",
    "set1_ohe.shape"
   ]
  },
  {
   "cell_type": "code",
   "execution_count": 23,
   "metadata": {},
   "outputs": [
    {
     "data": {
      "text/plain": [
       "(70549, 2)"
      ]
     },
     "execution_count": 23,
     "metadata": {},
     "output_type": "execute_result"
    }
   ],
   "source": [
    "sety1 =  pd.get_dummies(df['Clase de accidente'])\n",
    "sety1.shape"
   ]
  },
  {
   "cell_type": "code",
   "execution_count": 24,
   "metadata": {},
   "outputs": [],
   "source": [
    "from sklearn.model_selection import train_test_split\n",
    "\n",
    "X_train, X_test, y_train, y_test = train_test_split(set1_ohe, sety1, random_state=15) "
   ]
  },
  {
   "cell_type": "code",
   "execution_count": 25,
   "metadata": {},
   "outputs": [
    {
     "data": {
      "text/plain": [
       "DecisionTreeClassifier(class_weight=None, criterion='gini', max_depth=3,\n",
       "                       max_features=None, max_leaf_nodes=None,\n",
       "                       min_impurity_decrease=0.0, min_impurity_split=None,\n",
       "                       min_samples_leaf=1, min_samples_split=2,\n",
       "                       min_weight_fraction_leaf=0.0, presort=False,\n",
       "                       random_state=None, splitter='best')"
      ]
     },
     "execution_count": 25,
     "metadata": {},
     "output_type": "execute_result"
    }
   ],
   "source": [
    "from sklearn.tree import DecisionTreeClassifier\n",
    "\n",
    "DecisionTreeModel = DecisionTreeClassifier(max_depth = 3)\n",
    "DecisionTreeModel.fit(X_train,y_train)"
   ]
  },
  {
   "cell_type": "code",
   "execution_count": 26,
   "metadata": {},
   "outputs": [
    {
     "data": {
      "text/plain": [
       "0.8373398344483501"
      ]
     },
     "execution_count": 26,
     "metadata": {},
     "output_type": "execute_result"
    }
   ],
   "source": [
    "from sklearn.metrics import accuracy_score\n",
    "\n",
    "y_predict = DecisionTreeModel.predict(X_test)\n",
    "dt1 = accuracy_score(y_test, y_predict)\n",
    "dt1\n",
    "\n"
   ]
  },
  {
   "cell_type": "code",
   "execution_count": null,
   "metadata": {},
   "outputs": [],
   "source": [
    "from sklearn.ensemble import RandomForestClassifier\n",
    "\n",
    "RandomForestModel = RandomForestClassifier(min_samples_leaf=3,min_samples_split=20,n_estimators=500, max_depth= None, random_state=10)\n",
    "RandomForestModel.fit(X_train, y_train)"
   ]
  },
  {
   "cell_type": "code",
   "execution_count": null,
   "metadata": {},
   "outputs": [],
   "source": [
    "y_predict = RandomForestModel.predict(X_test)\n",
    "rf = accuracy_score(y_test,y_predict)\n",
    "rf"
   ]
  },
  {
   "cell_type": "code",
   "execution_count": null,
   "metadata": {},
   "outputs": [],
   "source": [
    "importances = pd.DataFrame({'feature' : X_train.columns, 'importance':RandomForestModel.feature_importances_})\n",
    "importances = importances.sort_values('importance', ascending = False).set_index('feature')\n",
    "importances.head(9)"
   ]
  },
  {
   "cell_type": "code",
   "execution_count": null,
   "metadata": {},
   "outputs": [],
   "source": []
  },
  {
   "cell_type": "code",
   "execution_count": null,
   "metadata": {},
   "outputs": [],
   "source": [
    "# to do"
   ]
  }
 ],
 "metadata": {
  "kernelspec": {
   "display_name": "Python 3",
   "language": "python",
   "name": "python3"
  },
  "language_info": {
   "codemirror_mode": {
    "name": "ipython",
    "version": 3
   },
   "file_extension": ".py",
   "mimetype": "text/x-python",
   "name": "python",
   "nbconvert_exporter": "python",
   "pygments_lexer": "ipython3",
   "version": "3.7.3"
  }
 },
 "nbformat": 4,
 "nbformat_minor": 2
}
